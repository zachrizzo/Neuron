{
 "cells": [
  {
   "cell_type": "code",
   "execution_count": 12,
   "metadata": {},
   "outputs": [
    {
     "ename": "ModuleNotFoundError",
     "evalue": "No module named 'config'",
     "output_type": "error",
     "traceback": [
      "\u001b[0;31m---------------------------------------------------------------------------\u001b[0m",
      "\u001b[0;31mModuleNotFoundError\u001b[0m                       Traceback (most recent call last)",
      "\u001b[1;32m/Users/zachrizzo/programing/language_learning_app/backend/workerPrograms/create_Audio_For_Lessons.ipynb Cell 1\u001b[0m line \u001b[0;36m5\n\u001b[1;32m      <a href='vscode-notebook-cell:/Users/zachrizzo/programing/language_learning_app/backend/workerPrograms/create_Audio_For_Lessons.ipynb#W0sZmlsZQ%3D%3D?line=2'>3</a>\u001b[0m \u001b[39mimport\u001b[39;00m \u001b[39mos\u001b[39;00m\n\u001b[1;32m      <a href='vscode-notebook-cell:/Users/zachrizzo/programing/language_learning_app/backend/workerPrograms/create_Audio_For_Lessons.ipynb#W0sZmlsZQ%3D%3D?line=3'>4</a>\u001b[0m \u001b[39mimport\u001b[39;00m \u001b[39mtime\u001b[39;00m\n\u001b[0;32m----> <a href='vscode-notebook-cell:/Users/zachrizzo/programing/language_learning_app/backend/workerPrograms/create_Audio_For_Lessons.ipynb#W0sZmlsZQ%3D%3D?line=4'>5</a>\u001b[0m \u001b[39mfrom\u001b[39;00m \u001b[39mconfig\u001b[39;00m \u001b[39mimport\u001b[39;00m client_secret\n\u001b[1;32m      <a href='vscode-notebook-cell:/Users/zachrizzo/programing/language_learning_app/backend/workerPrograms/create_Audio_For_Lessons.ipynb#W0sZmlsZQ%3D%3D?line=5'>6</a>\u001b[0m client \u001b[39m=\u001b[39m OpenAI(\n\u001b[1;32m      <a href='vscode-notebook-cell:/Users/zachrizzo/programing/language_learning_app/backend/workerPrograms/create_Audio_For_Lessons.ipynb#W0sZmlsZQ%3D%3D?line=6'>7</a>\u001b[0m     api_key\u001b[39m=\u001b[39mclient_secret\n\u001b[1;32m      <a href='vscode-notebook-cell:/Users/zachrizzo/programing/language_learning_app/backend/workerPrograms/create_Audio_For_Lessons.ipynb#W0sZmlsZQ%3D%3D?line=7'>8</a>\u001b[0m )\n",
      "\u001b[0;31mModuleNotFoundError\u001b[0m: No module named 'config'"
     ]
    }
   ],
   "source": [
    "from openai import OpenAI\n",
    "#create a folder for the audio\n",
    "import os\n",
    "import time\n",
    "from config import client_secret\n",
    "import os\n",
    "from dotenv import load_dotenv\n",
    "# Load .env file\n",
    "load_dotenv('../.env')\n",
    "\n",
    "\n",
    "# get secert key from .env\n",
    "client_secret = os.getenv(\"OPENAI_SECERT\")\n",
    "\n",
    "client = OpenAI(\n",
    "    api_key=client_secret\n",
    ")\n"
   ]
  },
  {
   "cell_type": "code",
   "execution_count": 9,
   "metadata": {},
   "outputs": [
    {
     "ename": "ValueError",
     "evalue": "The default Firebase app already exists. This means you called initialize_app() more than once without providing an app name as the second argument. In most cases you only need to call initialize_app() once. But if you do want to initialize multiple apps, pass a second argument to initialize_app() to give each app a unique name.",
     "output_type": "error",
     "traceback": [
      "\u001b[0;31m---------------------------------------------------------------------------\u001b[0m",
      "\u001b[0;31mValueError\u001b[0m                                Traceback (most recent call last)",
      "\u001b[1;32m/Users/zachrizzo/programing/language_learning_app/backend/workerPrograms/create_Audio_For_Lessons.ipynb Cell 2\u001b[0m line \u001b[0;36m6\n\u001b[1;32m      <a href='vscode-notebook-cell:/Users/zachrizzo/programing/language_learning_app/backend/workerPrograms/create_Audio_For_Lessons.ipynb#W1sZmlsZQ%3D%3D?line=2'>3</a>\u001b[0m \u001b[39mfrom\u001b[39;00m \u001b[39mfirebase_admin\u001b[39;00m \u001b[39mimport\u001b[39;00m storage\n\u001b[1;32m      <a href='vscode-notebook-cell:/Users/zachrizzo/programing/language_learning_app/backend/workerPrograms/create_Audio_For_Lessons.ipynb#W1sZmlsZQ%3D%3D?line=3'>4</a>\u001b[0m cred \u001b[39m=\u001b[39m credentials\u001b[39m.\u001b[39mCertificate(\u001b[39m\"\u001b[39m\u001b[39m../lang-learning-app-gpt-firebase-adminsdk-h6lgl-379786af55.json\u001b[39m\u001b[39m\"\u001b[39m)\n\u001b[0;32m----> <a href='vscode-notebook-cell:/Users/zachrizzo/programing/language_learning_app/backend/workerPrograms/create_Audio_For_Lessons.ipynb#W1sZmlsZQ%3D%3D?line=5'>6</a>\u001b[0m app \u001b[39m=\u001b[39m initialize_app(cred, {  \u001b[39m\"\u001b[39;49m\u001b[39mstorageBucket\u001b[39;49m\u001b[39m\"\u001b[39;49m: \u001b[39m\"\u001b[39;49m\u001b[39mlang-learning-app-gpt.appspot.com\u001b[39;49m\u001b[39m\"\u001b[39;49m\n\u001b[1;32m      <a href='vscode-notebook-cell:/Users/zachrizzo/programing/language_learning_app/backend/workerPrograms/create_Audio_For_Lessons.ipynb#W1sZmlsZQ%3D%3D?line=6'>7</a>\u001b[0m })\n\u001b[1;32m      <a href='vscode-notebook-cell:/Users/zachrizzo/programing/language_learning_app/backend/workerPrograms/create_Audio_For_Lessons.ipynb#W1sZmlsZQ%3D%3D?line=7'>8</a>\u001b[0m db \u001b[39m=\u001b[39m firestore\u001b[39m.\u001b[39mclient(app\u001b[39m=\u001b[39mapp)\n\u001b[1;32m      <a href='vscode-notebook-cell:/Users/zachrizzo/programing/language_learning_app/backend/workerPrograms/create_Audio_For_Lessons.ipynb#W1sZmlsZQ%3D%3D?line=8'>9</a>\u001b[0m bucket \u001b[39m=\u001b[39m storage\u001b[39m.\u001b[39mbucket(app\u001b[39m=\u001b[39mapp)\n",
      "File \u001b[0;32m/opt/anaconda3/envs/ArrowBackend/lib/python3.11/site-packages/firebase_admin/__init__.py:71\u001b[0m, in \u001b[0;36minitialize_app\u001b[0;34m(credential, options, name)\u001b[0m\n\u001b[1;32m     68\u001b[0m         \u001b[39mreturn\u001b[39;00m app\n\u001b[1;32m     70\u001b[0m \u001b[39mif\u001b[39;00m name \u001b[39m==\u001b[39m _DEFAULT_APP_NAME:\n\u001b[0;32m---> 71\u001b[0m     \u001b[39mraise\u001b[39;00m \u001b[39mValueError\u001b[39;00m((\n\u001b[1;32m     72\u001b[0m         \u001b[39m'\u001b[39m\u001b[39mThe default Firebase app already exists. This means you called \u001b[39m\u001b[39m'\u001b[39m\n\u001b[1;32m     73\u001b[0m         \u001b[39m'\u001b[39m\u001b[39minitialize_app() more than once without providing an app name as \u001b[39m\u001b[39m'\u001b[39m\n\u001b[1;32m     74\u001b[0m         \u001b[39m'\u001b[39m\u001b[39mthe second argument. In most cases you only need to call \u001b[39m\u001b[39m'\u001b[39m\n\u001b[1;32m     75\u001b[0m         \u001b[39m'\u001b[39m\u001b[39minitialize_app() once. But if you do want to initialize multiple \u001b[39m\u001b[39m'\u001b[39m\n\u001b[1;32m     76\u001b[0m         \u001b[39m'\u001b[39m\u001b[39mapps, pass a second argument to initialize_app() to give each app \u001b[39m\u001b[39m'\u001b[39m\n\u001b[1;32m     77\u001b[0m         \u001b[39m'\u001b[39m\u001b[39ma unique name.\u001b[39m\u001b[39m'\u001b[39m))\n\u001b[1;32m     79\u001b[0m \u001b[39mraise\u001b[39;00m \u001b[39mValueError\u001b[39;00m((\n\u001b[1;32m     80\u001b[0m     \u001b[39m'\u001b[39m\u001b[39mFirebase app named \u001b[39m\u001b[39m\"\u001b[39m\u001b[39m{0}\u001b[39;00m\u001b[39m\"\u001b[39m\u001b[39m already exists. This means you called \u001b[39m\u001b[39m'\u001b[39m\n\u001b[1;32m     81\u001b[0m     \u001b[39m'\u001b[39m\u001b[39minitialize_app() more than once with the same app name as the \u001b[39m\u001b[39m'\u001b[39m\n\u001b[1;32m     82\u001b[0m     \u001b[39m'\u001b[39m\u001b[39msecond argument. Make sure you provide a unique name every time \u001b[39m\u001b[39m'\u001b[39m\n\u001b[1;32m     83\u001b[0m     \u001b[39m'\u001b[39m\u001b[39myou call initialize_app().\u001b[39m\u001b[39m'\u001b[39m)\u001b[39m.\u001b[39mformat(name))\n",
      "\u001b[0;31mValueError\u001b[0m: The default Firebase app already exists. This means you called initialize_app() more than once without providing an app name as the second argument. In most cases you only need to call initialize_app() once. But if you do want to initialize multiple apps, pass a second argument to initialize_app() to give each app a unique name."
     ]
    }
   ],
   "source": [
    "# firebase\n",
    "from firebase_admin import credentials, firestore, initialize_app\n",
    "from firebase_admin import storage\n",
    "cred = credentials.Certificate(\"../lang-learning-app-gpt-firebase-adminsdk-h6lgl-379786af55.json\")\n",
    "\n",
    "app = initialize_app(cred, {  \"storageBucket\": \"lang-learning-app-gpt.appspot.com\"\n",
    "})\n",
    "db = firestore.client(app=app)\n",
    "bucket = storage.bucket(app=app)\n",
    "# initialize_app(cred, {  \"storageBucket\": \"lang-learning-app-gpt.appspot.com\"\n",
    "# }, app)\n",
    "print(\"firebase connected\")\n",
    "\n"
   ]
  },
  {
   "cell_type": "markdown",
   "metadata": {},
   "source": [
    "Get audio for the words"
   ]
  },
  {
   "cell_type": "code",
   "execution_count": 10,
   "metadata": {},
   "outputs": [
    {
     "name": "stdout",
     "output_type": "stream",
     "text": [
      "{'lessonTitle': 'French Beginner - First Lesson', 'skillLevel': 'Beginner', 'focusArea': 'Basic Greetings and Common Phrases', 'totalTasks': 35, 'exercises': [{'taskType': 'Speaking', 'taskDescription': \"Repeat the greeting 'Bonjour' (Hello)\", 'text': 'Bonjour', 'translation': 'Hello', 'audioFilePath': 'https://storage.googleapis.com/lang-learning-app-gpt.appspot.com/lessons/French%20Beginner%20-%20First%20Lesson/Bonjour.mp3/Bonjour.mp3', 'points': 5}, {'taskType': 'Speaking', 'taskDescription': \"Repeat 'Comment ça va?' (How are you?)\", 'text': 'Comment ça va?', 'translation': 'How are you?', 'audioFilePath': 'https://storage.googleapis.com/lang-learning-app-gpt.appspot.com/lessons/French%20Beginner%20-%20First%20Lesson/Comment%20%C3%A7a%20va%3F.mp3/Comment%20%C3%A7a%20va%3F.mp3', 'points': 5}, {'taskType': 'Speaking', 'taskDescription': \"Say 'Je m'appelle John' (My name is John)\", 'text': \"Je m'appelle John\", 'translation': 'My name is John', 'audioFilePath': 'https://storage.googleapis.com/lang-learning-app-gpt.appspot.com/lessons/French%20Beginner%20-%20First%20Lesson/Je%20m%27appelle%20John.mp3/Je%20m%27appelle%20John.mp3', 'points': 5}, {'taskType': 'Speaking', 'taskDescription': \"Repeat 'Merci' (Thank you)\", 'text': 'Merci', 'translation': 'Thank you', 'audioFilePath': 'https://storage.googleapis.com/lang-learning-app-gpt.appspot.com/lessons/French%20Beginner%20-%20First%20Lesson/Merci.mp3/Merci.mp3', 'points': 5}, {'taskType': 'Speaking', 'taskDescription': \"Repeat 'S'il vous plaît' (Please)\", 'text': \"S'il vous plaît\", 'translation': 'Please', 'audioFilePath': 'https://storage.googleapis.com/lang-learning-app-gpt.appspot.com/lessons/French%20Beginner%20-%20First%20Lesson/S%27il%20vous%20pla%C3%AEt.mp3/S%27il%20vous%20pla%C3%AEt.mp3', 'points': 5}, {'taskType': 'Speaking', 'taskDescription': \"Repeat 'Au revoir' (Goodbye)\", 'text': 'Au revoir', 'translation': 'Goodbye', 'audioFilePath': 'https://storage.googleapis.com/lang-learning-app-gpt.appspot.com/lessons/French%20Beginner%20-%20First%20Lesson/Au%20revoir.mp3/Au%20revoir.mp3', 'points': 5}, {'taskType': 'Speaking', 'taskDescription': \"Say 'Je suis désolé(e)' (I am sorry)\", 'text': 'Je suis désolé(e)', 'translation': 'I am sorry', 'audioFilePath': 'https://storage.googleapis.com/lang-learning-app-gpt.appspot.com/lessons/French%20Beginner%20-%20First%20Lesson/Je%20suis%20d%C3%A9sol%C3%A9%28e%29.mp3/Je%20suis%20d%C3%A9sol%C3%A9%28e%29.mp3', 'points': 5}, {'taskType': 'Speaking', 'taskDescription': \"Repeat 'Pouvez-vous m'aider?' (Can you help me?)\", 'text': \"Pouvez-vous m'aider?\", 'translation': 'Can you help me?', 'audioFilePath': 'https://storage.googleapis.com/lang-learning-app-gpt.appspot.com/lessons/French%20Beginner%20-%20First%20Lesson/Pouvez-vous%20m%27aider%3F.mp3/Pouvez-vous%20m%27aider%3F.mp3', 'points': 5}, {'taskType': 'Speaking', 'taskDescription': \"Say 'Oui' (Yes)\", 'text': 'Oui', 'translation': 'Yes', 'audioFilePath': 'https://storage.googleapis.com/lang-learning-app-gpt.appspot.com/lessons/French%20Beginner%20-%20First%20Lesson/Oui.mp3/Oui.mp3', 'points': 5}, {'taskType': 'Speaking', 'taskDescription': \"Say 'Non' (No)\", 'text': 'Non', 'translation': 'No', 'audioFilePath': 'https://storage.googleapis.com/lang-learning-app-gpt.appspot.com/lessons/French%20Beginner%20-%20First%20Lesson/Non.mp3/Non.mp3', 'points': 5}, {'taskType': 'Speaking', 'taskDescription': \"Repeat 'Comment vous appelez-vous?' (What is your name?)\", 'text': 'Comment vous appelez-vous?', 'translation': 'What is your name?', 'audioFilePath': 'https://storage.googleapis.com/lang-learning-app-gpt.appspot.com/lessons/French%20Beginner%20-%20First%20Lesson/Comment%20vous%20appelez-vous%3F.mp3/Comment%20vous%20appelez-vous%3F.mp3', 'points': 5}, {'taskType': 'Speaking', 'taskDescription': \"Say 'Je ne comprends pas' (I do not understand)\", 'text': 'Je ne comprends pas', 'translation': 'I do not understand', 'audioFilePath': 'https://storage.googleapis.com/lang-learning-app-gpt.appspot.com/lessons/French%20Beginner%20-%20First%20Lesson/Je%20ne%20comprends%20pas.mp3/Je%20ne%20comprends%20pas.mp3', 'points': 5}, {'taskType': 'Speaking', 'taskDescription': \"Repeat 'Parlez-vous anglais?' (Do you speak English?)\", 'text': 'Parlez-vous anglais?', 'translation': 'Do you speak English?', 'audioFilePath': 'https://storage.googleapis.com/lang-learning-app-gpt.appspot.com/lessons/French%20Beginner%20-%20First%20Lesson/Parlez-vous%20anglais%3F.mp3/Parlez-vous%20anglais%3F.mp3', 'points': 5}, {'taskType': 'Speaking', 'taskDescription': \"Say 'Je voudrais de l'eau, s'il vous plaît' (I would like some water, please)\", 'text': \"Je voudrais de l'eau, s'il vous plaît\", 'translation': 'I would like some water, please', 'audioFilePath': 'https://storage.googleapis.com/lang-learning-app-gpt.appspot.com/lessons/French%20Beginner%20-%20First%20Lesson/Je%20voudrais%20de%20l%27eau%2C%20s%27il%20vous%20pla%C3%AEt.mp3/Je%20voudrais%20de%20l%27eau%2C%20s%27il%20vous%20pla%C3%AEt.mp3', 'points': 5}, {'taskType': 'Speaking', 'taskDescription': \"Repeat 'Où est l'hôtel?' (Where is the hotel?)\", 'text': \"Où est l'hôtel?\", 'translation': 'Where is the hotel?', 'audioFilePath': 'https://storage.googleapis.com/lang-learning-app-gpt.appspot.com/lessons/French%20Beginner%20-%20First%20Lesson/O%C3%B9%20est%20l%27h%C3%B4tel%3F.mp3/O%C3%B9%20est%20l%27h%C3%B4tel%3F.mp3', 'points': 5}, {'taskType': 'Reading', 'taskDescription': \"Translate 'Où sont les toilettes?' into English\", 'text': 'Où sont les toilettes?', 'translation': 'Where is the bathroom?', 'audioFilePath': 'https://storage.googleapis.com/lang-learning-app-gpt.appspot.com/lessons/French%20Beginner%20-%20First%20Lesson/O%C3%B9%20sont%20les%20toilettes%3F.mp3/O%C3%B9%20sont%20les%20toilettes%3F.mp3', 'points': 7}, {'taskType': 'Reading', 'taskDescription': \"Translate 'Je voudrais un café, s'il vous plaît' into English\", 'text': \"Je voudrais un café, s'il vous plaît\", 'translation': 'I would like a coffee, please', 'audioFilePath': 'https://storage.googleapis.com/lang-learning-app-gpt.appspot.com/lessons/French%20Beginner%20-%20First%20Lesson/Je%20voudrais%20un%20caf%C3%A9%2C%20s%27il%20vous%20pla%C3%AEt.mp3/Je%20voudrais%20un%20caf%C3%A9%2C%20s%27il%20vous%20pla%C3%AEt.mp3', 'points': 7}, {'taskType': 'Writing', 'taskDescription': \"Write 'Good morning' in French\", 'text': 'Bon matin', 'correctAnswer': 'Bonjour', 'points': 10, 'audioFilePath': 'https://storage.googleapis.com/lang-learning-app-gpt.appspot.com/lessons/French%20Beginner%20-%20First%20Lesson/Bon%20matin.mp3/Bon%20matin.mp3'}, {'taskType': 'Writing', 'taskDescription': \"Write 'See you later' in French\", 'text': 'Voir vous plus tard', 'correctAnswer': 'À plus tard', 'points': 10, 'audioFilePath': 'https://storage.googleapis.com/lang-learning-app-gpt.appspot.com/lessons/French%20Beginner%20-%20First%20Lesson/Voir%20vous%20plus%20tard.mp3/Voir%20vous%20plus%20tard.mp3'}, {'taskType': 'Reading', 'taskDescription': \"Translate 'C'est un livre' into English\", 'text': \"C'est un livre\", 'translation': 'It is a book', 'audioFilePath': 'https://storage.googleapis.com/lang-learning-app-gpt.appspot.com/lessons/French%20Beginner%20-%20First%20Lesson/C%27est%20un%20livre.mp3/C%27est%20un%20livre.mp3', 'points': 7}, {'taskType': 'Reading', 'taskDescription': \"Translate 'Je veux de l'eau' into English\", 'text': \"Je veux de l'eau\", 'translation': 'I want some water', 'audioFilePath': 'https://storage.googleapis.com/lang-learning-app-gpt.appspot.com/lessons/French%20Beginner%20-%20First%20Lesson/Je%20veux%20de%20l%27eau.mp3/Je%20veux%20de%20l%27eau.mp3', 'points': 7}, {'taskType': 'Reading', 'taskDescription': \"Translate 'Où est la gare?' into English\", 'text': 'Où est la gare?', 'translation': 'Where is the train station?', 'audioFilePath': 'https://storage.googleapis.com/lang-learning-app-gpt.appspot.com/lessons/French%20Beginner%20-%20First%20Lesson/O%C3%B9%20est%20la%20gare%3F.mp3/O%C3%B9%20est%20la%20gare%3F.mp3', 'points': 7}, {'taskType': 'Reading', 'taskDescription': \"Translate 'Je ne comprends pas' into English\", 'text': 'Je ne comprends pas', 'translation': 'I do not understand', 'audioFilePath': 'https://storage.googleapis.com/lang-learning-app-gpt.appspot.com/lessons/French%20Beginner%20-%20First%20Lesson/Je%20ne%20comprends%20pas.mp3/Je%20ne%20comprends%20pas.mp3', 'points': 7}, {'taskType': 'Reading', 'taskDescription': \"Translate 'Quelle heure est-il?' into English\", 'text': 'Quelle heure est-il?', 'translation': 'What time is it?', 'audioFilePath': 'https://storage.googleapis.com/lang-learning-app-gpt.appspot.com/lessons/French%20Beginner%20-%20First%20Lesson/Quelle%20heure%20est-il%3F.mp3/Quelle%20heure%20est-il%3F.mp3', 'points': 7}, {'taskType': 'Reading', 'taskDescription': \"Translate 'Nous aimons la musique' into English\", 'text': 'Nous aimons la musique', 'translation': 'We like music', 'audioFilePath': 'https://storage.googleapis.com/lang-learning-app-gpt.appspot.com/lessons/French%20Beginner%20-%20First%20Lesson/Nous%20aimons%20la%20musique.mp3/Nous%20aimons%20la%20musique.mp3', 'points': 7}, {'taskType': 'Reading', 'taskDescription': \"Translate 'Elle a un chat' into English\", 'text': 'Elle a un chat', 'translation': 'She has a cat', 'audioFilePath': 'https://storage.googleapis.com/lang-learning-app-gpt.appspot.com/lessons/French%20Beginner%20-%20First%20Lesson/Elle%20a%20un%20chat.mp3/Elle%20a%20un%20chat.mp3', 'points': 7}, {'taskType': 'Reading', 'taskDescription': \"Translate 'Le soleil est jaune' into English\", 'text': 'Le soleil est jaune', 'translation': 'The sun is yellow', 'audioFilePath': 'https://storage.googleapis.com/lang-learning-app-gpt.appspot.com/lessons/French%20Beginner%20-%20First%20Lesson/Le%20soleil%20est%20jaune.mp3/Le%20soleil%20est%20jaune.mp3', 'points': 7}, {'taskType': 'Reading', 'taskDescription': \"Translate 'J'ai deux frères' into English\", 'text': \"J'ai deux frères\", 'translation': 'I have two brothers', 'audioFilePath': 'https://storage.googleapis.com/lang-learning-app-gpt.appspot.com/lessons/French%20Beginner%20-%20First%20Lesson/J%27ai%20deux%20fr%C3%A8res.mp3/J%27ai%20deux%20fr%C3%A8res.mp3', 'points': 7}, {'taskType': 'Reading', 'taskDescription': \"Translate 'Elle parle anglais et français' into English\", 'text': 'Elle parle anglais et français', 'translation': 'She speaks English and French', 'audioFilePath': 'https://storage.googleapis.com/lang-learning-app-gpt.appspot.com/lessons/French%20Beginner%20-%20First%20Lesson/Elle%20parle%20anglais%20et%20fran%C3%A7ais.mp3/Elle%20parle%20anglais%20et%20fran%C3%A7ais.mp3', 'points': 7}, {'taskType': 'Writing', 'taskDescription': \"Write 'I am happy' in French\", 'text': 'I am happy', 'correctAnswer': 'Je suis heureux (masculine) / heureuse (feminine)', 'points': 10}, {'taskType': 'Writing', 'taskDescription': \"Write 'She eats an apple' in French\", 'text': 'She eats an apple', 'correctAnswer': 'Elle mange une pomme', 'points': 10}, {'taskType': 'Writing', 'taskDescription': \"Write 'The sky is blue' in French\", 'text': 'The sky is blue', 'correctAnswer': 'Le ciel est bleu', 'points': 10}, {'taskType': 'Writing', 'taskDescription': \"Write 'We are friends' in French\", 'text': 'We are friends', 'correctAnswer': 'Nous sommes amis', 'points': 10}, {'taskType': 'Writing', 'taskDescription': \"Write 'I have a book' in French\", 'text': 'I have a book', 'correctAnswer': \"J'ai un livre\", 'points': 10}, {'taskType': 'Writing', 'taskDescription': \"Write 'Where is the hotel?' in French\", 'text': 'Where is the hotel?', 'correctAnswer': \"Où est l'hôtel?\", 'points': 10}]}\n",
      "35\n",
      "['Bonjour', 'Comment ça va?', \"Je m'appelle John\", 'Merci', \"S'il vous plaît\", 'Au revoir', 'Je suis désolé(e)', \"Pouvez-vous m'aider?\", 'Oui', 'Non', 'Comment vous appelez-vous?', 'Je ne comprends pas', 'Parlez-vous anglais?', \"Je voudrais de l'eau, s'il vous plaît\", \"Où est l'hôtel?\", 'Où sont les toilettes?', \"Je voudrais un café, s'il vous plaît\", \"C'est un livre\", \"Je veux de l'eau\", 'Où est la gare?', 'Je ne comprends pas', 'Quelle heure est-il?', 'Nous aimons la musique', 'Elle a un chat', 'Le soleil est jaune', \"J'ai deux frères\", 'Elle parle anglais et français']\n"
     ]
    }
   ],
   "source": [
    "import json\n",
    "json_file = 'beginner_lesson.json'\n",
    "data = {}\n",
    "# get the json file\n",
    "with open(json_file) as f:\n",
    "    data = json.load(f)\n",
    "    print(data)\n",
    "\n",
    "exercise = data['exercises']\n",
    "print(len(exercise))\n",
    "\n",
    "\n",
    "\n",
    "# get the list of lessons\n",
    "question_text = []\n",
    "for lesson in exercise:\n",
    "    if isinstance(lesson, dict) :\n",
    "        if lesson['taskType'] == 'Speaking' or lesson['taskType'] == 'Reading':\n",
    "            question_text.append(lesson['text'])\n",
    "\n",
    "print(question_text)\n"
   ]
  },
  {
   "cell_type": "code",
   "execution_count": 51,
   "metadata": {},
   "outputs": [
    {
     "name": "stdout",
     "output_type": "stream",
     "text": [
      "Bonjour.mp3 already exists\n",
      "Comment ça va?.mp3 already exists\n",
      "Je m'appelle John.mp3 already exists\n",
      "Merci.mp3 already exists\n",
      "S'il vous plaît.mp3 already exists\n",
      "Au revoir.mp3 already exists\n",
      "Je suis désolé(e).mp3 already exists\n",
      "Pouvez-vous m'aider?.mp3 already exists\n",
      "Error code: 429 - {'error': {'message': 'Rate limit reached for tts-1-hd in organization org-xN42YthJ7m3elLOthSqIkZtP on requests per min (RPM): Limit 3, Used 3, Requested 1. Please try again in 20s. Visit https://platform.openai.com/account/rate-limits to learn more.', 'type': 'requests', 'param': None, 'code': 'rate_limit_exceeded'}}\n",
      "Error code: 429 - {'error': {'message': 'Rate limit reached for tts-1-hd in organization org-xN42YthJ7m3elLOthSqIkZtP on requests per min (RPM): Limit 3, Used 3, Requested 1. Please try again in 20s. Visit https://platform.openai.com/account/rate-limits to learn more.', 'type': 'requests', 'param': None, 'code': 'rate_limit_exceeded'}}\n",
      "Error code: 429 - {'error': {'message': 'Rate limit reached for tts-1-hd in organization org-xN42YthJ7m3elLOthSqIkZtP on requests per min (RPM): Limit 3, Used 3, Requested 1. Please try again in 20s. Visit https://platform.openai.com/account/rate-limits to learn more.', 'type': 'requests', 'param': None, 'code': 'rate_limit_exceeded'}}\n",
      "Error code: 429 - {'error': {'message': 'Rate limit reached for tts-1-hd in organization org-xN42YthJ7m3elLOthSqIkZtP on requests per min (RPM): Limit 3, Used 3, Requested 1. Please try again in 20s. Visit https://platform.openai.com/account/rate-limits to learn more.', 'type': 'requests', 'param': None, 'code': 'rate_limit_exceeded'}}\n",
      "Error code: 429 - {'error': {'message': 'Rate limit reached for tts-1-hd in organization org-xN42YthJ7m3elLOthSqIkZtP on requests per min (RPM): Limit 3, Used 3, Requested 1. Please try again in 20s. Visit https://platform.openai.com/account/rate-limits to learn more.', 'type': 'requests', 'param': None, 'code': 'rate_limit_exceeded'}}\n",
      "Error code: 429 - {'error': {'message': 'Rate limit reached for tts-1-hd in organization org-xN42YthJ7m3elLOthSqIkZtP on requests per min (RPM): Limit 3, Used 3, Requested 1. Please try again in 20s. Visit https://platform.openai.com/account/rate-limits to learn more.', 'type': 'requests', 'param': None, 'code': 'rate_limit_exceeded'}}\n",
      "Error code: 429 - {'error': {'message': 'Rate limit reached for tts-1-hd in organization org-xN42YthJ7m3elLOthSqIkZtP on requests per min (RPM): Limit 3, Used 3, Requested 1. Please try again in 20s. Visit https://platform.openai.com/account/rate-limits to learn more.', 'type': 'requests', 'param': None, 'code': 'rate_limit_exceeded'}}\n",
      "Error code: 429 - {'error': {'message': 'Rate limit reached for tts-1-hd in organization org-xN42YthJ7m3elLOthSqIkZtP on requests per min (RPM): Limit 3, Used 3, Requested 1. Please try again in 20s. Visit https://platform.openai.com/account/rate-limits to learn more.', 'type': 'requests', 'param': None, 'code': 'rate_limit_exceeded'}}\n",
      "Error code: 429 - {'error': {'message': 'Rate limit reached for tts-1-hd in organization org-xN42YthJ7m3elLOthSqIkZtP on requests per min (RPM): Limit 3, Used 3, Requested 1. Please try again in 20s. Visit https://platform.openai.com/account/rate-limits to learn more.', 'type': 'requests', 'param': None, 'code': 'rate_limit_exceeded'}}\n",
      "Error code: 429 - {'error': {'message': 'Rate limit reached for tts-1-hd in organization org-xN42YthJ7m3elLOthSqIkZtP on requests per min (RPM): Limit 3, Used 3, Requested 1. Please try again in 20s. Visit https://platform.openai.com/account/rate-limits to learn more.', 'type': 'requests', 'param': None, 'code': 'rate_limit_exceeded'}}\n",
      "Error code: 429 - {'error': {'message': 'Rate limit reached for tts-1-hd in organization org-xN42YthJ7m3elLOthSqIkZtP on requests per min (RPM): Limit 3, Used 3, Requested 1. Please try again in 20s. Visit https://platform.openai.com/account/rate-limits to learn more.', 'type': 'requests', 'param': None, 'code': 'rate_limit_exceeded'}}\n",
      "Error code: 429 - {'error': {'message': 'Rate limit reached for tts-1-hd in organization org-xN42YthJ7m3elLOthSqIkZtP on requests per min (RPM): Limit 3, Used 3, Requested 1. Please try again in 20s. Visit https://platform.openai.com/account/rate-limits to learn more.', 'type': 'requests', 'param': None, 'code': 'rate_limit_exceeded'}}\n",
      "Error code: 429 - {'error': {'message': 'Rate limit reached for tts-1-hd in organization org-xN42YthJ7m3elLOthSqIkZtP on requests per min (RPM): Limit 3, Used 3, Requested 1. Please try again in 20s. Visit https://platform.openai.com/account/rate-limits to learn more.', 'type': 'requests', 'param': None, 'code': 'rate_limit_exceeded'}}\n",
      "Error code: 429 - {'error': {'message': 'Rate limit reached for tts-1-hd in organization org-xN42YthJ7m3elLOthSqIkZtP on requests per min (RPM): Limit 3, Used 3, Requested 1. Please try again in 20s. Visit https://platform.openai.com/account/rate-limits to learn more.', 'type': 'requests', 'param': None, 'code': 'rate_limit_exceeded'}}\n",
      "Error code: 429 - {'error': {'message': 'Rate limit reached for tts-1-hd in organization org-xN42YthJ7m3elLOthSqIkZtP on requests per min (RPM): Limit 3, Used 3, Requested 1. Please try again in 20s. Visit https://platform.openai.com/account/rate-limits to learn more.', 'type': 'requests', 'param': None, 'code': 'rate_limit_exceeded'}}\n",
      "Error code: 429 - {'error': {'message': 'Rate limit reached for tts-1-hd in organization org-xN42YthJ7m3elLOthSqIkZtP on requests per min (RPM): Limit 3, Used 3, Requested 1. Please try again in 20s. Visit https://platform.openai.com/account/rate-limits to learn more.', 'type': 'requests', 'param': None, 'code': 'rate_limit_exceeded'}}\n",
      "Error code: 429 - {'error': {'message': 'Rate limit reached for tts-1-hd in organization org-xN42YthJ7m3elLOthSqIkZtP on requests per min (RPM): Limit 3, Used 3, Requested 1. Please try again in 20s. Visit https://platform.openai.com/account/rate-limits to learn more.', 'type': 'requests', 'param': None, 'code': 'rate_limit_exceeded'}}\n",
      "Error code: 429 - {'error': {'message': 'Rate limit reached for tts-1-hd in organization org-xN42YthJ7m3elLOthSqIkZtP on requests per min (RPM): Limit 3, Used 3, Requested 1. Please try again in 20s. Visit https://platform.openai.com/account/rate-limits to learn more.', 'type': 'requests', 'param': None, 'code': 'rate_limit_exceeded'}}\n"
     ]
    }
   ],
   "source": [
    "#create the audio from the text using openai text to speech\n",
    "\n",
    "\n",
    "if not os.path.exists('lesson_audio'):\n",
    "    os.makedirs('lesson_audio')\n",
    "\n",
    "list_of_files = os.listdir('lesson_audio')\n",
    "\n",
    "#if the file is already there, skip it\n",
    "\n",
    "\n",
    "\n",
    "\n",
    "for text in question_text:\n",
    "    if f'{text}.mp3' in list_of_files:\n",
    "        print(f'{text}.mp3 already exists')\n",
    "        continue\n",
    "\n",
    "\n",
    "    try:\n",
    "        response = client.audio.speech.create(\n",
    "        model=\"tts-1-hd\",\n",
    "        voice=\"alloy\",\n",
    "        input=text\n",
    "\n",
    "        )\n",
    "        response.stream_to_file(f'lesson_audio/{text}.mp3')\n",
    "\n",
    "    except Exception as e:\n",
    "        print(e)\n",
    "        time.sleep(21)\n",
    "        response = client.audio.speech.create(\n",
    "        model=\"tts-1-hd\",\n",
    "        voice=\"shimmer\",\n",
    "        input=text\n",
    "\n",
    "        )\n",
    "        response.stream_to_file(f'lesson_audio/{text}.mp3')\n",
    "        continue\n",
    "\n"
   ]
  },
  {
   "cell_type": "markdown",
   "metadata": {},
   "source": [
    "fix the audio"
   ]
  },
  {
   "cell_type": "code",
   "execution_count": 11,
   "metadata": {},
   "outputs": [
    {
     "ename": "AuthenticationError",
     "evalue": "Error code: 401 - {'error': {'message': 'Incorrect API key provided: sk-Qf6aF***************************************cJLJ. You can find your API key at https://platform.openai.com/account/api-keys.', 'type': 'invalid_request_error', 'param': None, 'code': 'invalid_api_key'}}",
     "output_type": "error",
     "traceback": [
      "\u001b[0;31m---------------------------------------------------------------------------\u001b[0m",
      "\u001b[0;31mAuthenticationError\u001b[0m                       Traceback (most recent call last)",
      "\u001b[1;32m/Users/zachrizzo/programing/language_learning_app/backend/workerPrograms/create_Audio_For_Lessons.ipynb Cell 7\u001b[0m line \u001b[0;36m3\n\u001b[1;32m      <a href='vscode-notebook-cell:/Users/zachrizzo/programing/language_learning_app/backend/workerPrograms/create_Audio_For_Lessons.ipynb#W6sZmlsZQ%3D%3D?line=0'>1</a>\u001b[0m text \u001b[39m=\u001b[39m \u001b[39m\"\u001b[39m\u001b[39mAu revoir\u001b[39m\u001b[39m\"\u001b[39m\n\u001b[0;32m----> <a href='vscode-notebook-cell:/Users/zachrizzo/programing/language_learning_app/backend/workerPrograms/create_Audio_For_Lessons.ipynb#W6sZmlsZQ%3D%3D?line=2'>3</a>\u001b[0m response \u001b[39m=\u001b[39m client\u001b[39m.\u001b[39;49maudio\u001b[39m.\u001b[39;49mspeech\u001b[39m.\u001b[39;49mcreate(\n\u001b[1;32m      <a href='vscode-notebook-cell:/Users/zachrizzo/programing/language_learning_app/backend/workerPrograms/create_Audio_For_Lessons.ipynb#W6sZmlsZQ%3D%3D?line=3'>4</a>\u001b[0m         model\u001b[39m=\u001b[39;49m\u001b[39m\"\u001b[39;49m\u001b[39mtts-1-hd\u001b[39;49m\u001b[39m\"\u001b[39;49m,\n\u001b[1;32m      <a href='vscode-notebook-cell:/Users/zachrizzo/programing/language_learning_app/backend/workerPrograms/create_Audio_For_Lessons.ipynb#W6sZmlsZQ%3D%3D?line=4'>5</a>\u001b[0m         voice\u001b[39m=\u001b[39;49m\u001b[39m\"\u001b[39;49m\u001b[39malloy\u001b[39;49m\u001b[39m\"\u001b[39;49m,\n\u001b[1;32m      <a href='vscode-notebook-cell:/Users/zachrizzo/programing/language_learning_app/backend/workerPrograms/create_Audio_For_Lessons.ipynb#W6sZmlsZQ%3D%3D?line=5'>6</a>\u001b[0m         \u001b[39minput\u001b[39;49m\u001b[39m=\u001b[39;49mtext\n\u001b[1;32m      <a href='vscode-notebook-cell:/Users/zachrizzo/programing/language_learning_app/backend/workerPrograms/create_Audio_For_Lessons.ipynb#W6sZmlsZQ%3D%3D?line=6'>7</a>\u001b[0m \n\u001b[1;32m      <a href='vscode-notebook-cell:/Users/zachrizzo/programing/language_learning_app/backend/workerPrograms/create_Audio_For_Lessons.ipynb#W6sZmlsZQ%3D%3D?line=7'>8</a>\u001b[0m         )\n\u001b[1;32m      <a href='vscode-notebook-cell:/Users/zachrizzo/programing/language_learning_app/backend/workerPrograms/create_Audio_For_Lessons.ipynb#W6sZmlsZQ%3D%3D?line=8'>9</a>\u001b[0m response\u001b[39m.\u001b[39mstream_to_file(\u001b[39mf\u001b[39m\u001b[39m'\u001b[39m\u001b[39mlesson_audio/\u001b[39m\u001b[39m{\u001b[39;00mtext\u001b[39m}\u001b[39;00m\u001b[39m.mp3\u001b[39m\u001b[39m'\u001b[39m)\n",
      "File \u001b[0;32m/opt/anaconda3/envs/ArrowBackend/lib/python3.11/site-packages/openai/resources/audio/speech.py:71\u001b[0m, in \u001b[0;36mSpeech.create\u001b[0;34m(self, input, model, voice, response_format, speed, extra_headers, extra_query, extra_body, timeout)\u001b[0m\n\u001b[1;32m     30\u001b[0m \u001b[39mdef\u001b[39;00m \u001b[39mcreate\u001b[39m(\n\u001b[1;32m     31\u001b[0m     \u001b[39mself\u001b[39m,\n\u001b[1;32m     32\u001b[0m     \u001b[39m*\u001b[39m,\n\u001b[0;32m   (...)\u001b[0m\n\u001b[1;32m     43\u001b[0m     timeout: \u001b[39mfloat\u001b[39m \u001b[39m|\u001b[39m httpx\u001b[39m.\u001b[39mTimeout \u001b[39m|\u001b[39m \u001b[39mNone\u001b[39;00m \u001b[39m|\u001b[39m NotGiven \u001b[39m=\u001b[39m NOT_GIVEN,\n\u001b[1;32m     44\u001b[0m ) \u001b[39m-\u001b[39m\u001b[39m>\u001b[39m HttpxBinaryResponseContent:\n\u001b[1;32m     45\u001b[0m \u001b[39m    \u001b[39m\u001b[39m\"\"\"\u001b[39;00m\n\u001b[1;32m     46\u001b[0m \u001b[39m    Generates audio from the input text.\u001b[39;00m\n\u001b[1;32m     47\u001b[0m \n\u001b[0;32m   (...)\u001b[0m\n\u001b[1;32m     69\u001b[0m \u001b[39m      timeout: Override the client-level default timeout for this request, in seconds\u001b[39;00m\n\u001b[1;32m     70\u001b[0m \u001b[39m    \"\"\"\u001b[39;00m\n\u001b[0;32m---> 71\u001b[0m     \u001b[39mreturn\u001b[39;00m \u001b[39mself\u001b[39;49m\u001b[39m.\u001b[39;49m_post(\n\u001b[1;32m     72\u001b[0m         \u001b[39m\"\u001b[39;49m\u001b[39m/audio/speech\u001b[39;49m\u001b[39m\"\u001b[39;49m,\n\u001b[1;32m     73\u001b[0m         body\u001b[39m=\u001b[39;49mmaybe_transform(\n\u001b[1;32m     74\u001b[0m             {\n\u001b[1;32m     75\u001b[0m                 \u001b[39m\"\u001b[39;49m\u001b[39minput\u001b[39;49m\u001b[39m\"\u001b[39;49m: \u001b[39minput\u001b[39;49m,\n\u001b[1;32m     76\u001b[0m                 \u001b[39m\"\u001b[39;49m\u001b[39mmodel\u001b[39;49m\u001b[39m\"\u001b[39;49m: model,\n\u001b[1;32m     77\u001b[0m                 \u001b[39m\"\u001b[39;49m\u001b[39mvoice\u001b[39;49m\u001b[39m\"\u001b[39;49m: voice,\n\u001b[1;32m     78\u001b[0m                 \u001b[39m\"\u001b[39;49m\u001b[39mresponse_format\u001b[39;49m\u001b[39m\"\u001b[39;49m: response_format,\n\u001b[1;32m     79\u001b[0m                 \u001b[39m\"\u001b[39;49m\u001b[39mspeed\u001b[39;49m\u001b[39m\"\u001b[39;49m: speed,\n\u001b[1;32m     80\u001b[0m             },\n\u001b[1;32m     81\u001b[0m             speech_create_params\u001b[39m.\u001b[39;49mSpeechCreateParams,\n\u001b[1;32m     82\u001b[0m         ),\n\u001b[1;32m     83\u001b[0m         options\u001b[39m=\u001b[39;49mmake_request_options(\n\u001b[1;32m     84\u001b[0m             extra_headers\u001b[39m=\u001b[39;49mextra_headers, extra_query\u001b[39m=\u001b[39;49mextra_query, extra_body\u001b[39m=\u001b[39;49mextra_body, timeout\u001b[39m=\u001b[39;49mtimeout\n\u001b[1;32m     85\u001b[0m         ),\n\u001b[1;32m     86\u001b[0m         cast_to\u001b[39m=\u001b[39;49mHttpxBinaryResponseContent,\n\u001b[1;32m     87\u001b[0m     )\n",
      "File \u001b[0;32m/opt/anaconda3/envs/ArrowBackend/lib/python3.11/site-packages/openai/_base_client.py:1055\u001b[0m, in \u001b[0;36mSyncAPIClient.post\u001b[0;34m(self, path, cast_to, body, options, files, stream, stream_cls)\u001b[0m\n\u001b[1;32m   1041\u001b[0m \u001b[39mdef\u001b[39;00m \u001b[39mpost\u001b[39m(\n\u001b[1;32m   1042\u001b[0m     \u001b[39mself\u001b[39m,\n\u001b[1;32m   1043\u001b[0m     path: \u001b[39mstr\u001b[39m,\n\u001b[0;32m   (...)\u001b[0m\n\u001b[1;32m   1050\u001b[0m     stream_cls: \u001b[39mtype\u001b[39m[_StreamT] \u001b[39m|\u001b[39m \u001b[39mNone\u001b[39;00m \u001b[39m=\u001b[39m \u001b[39mNone\u001b[39;00m,\n\u001b[1;32m   1051\u001b[0m ) \u001b[39m-\u001b[39m\u001b[39m>\u001b[39m ResponseT \u001b[39m|\u001b[39m _StreamT:\n\u001b[1;32m   1052\u001b[0m     opts \u001b[39m=\u001b[39m FinalRequestOptions\u001b[39m.\u001b[39mconstruct(\n\u001b[1;32m   1053\u001b[0m         method\u001b[39m=\u001b[39m\u001b[39m\"\u001b[39m\u001b[39mpost\u001b[39m\u001b[39m\"\u001b[39m, url\u001b[39m=\u001b[39mpath, json_data\u001b[39m=\u001b[39mbody, files\u001b[39m=\u001b[39mto_httpx_files(files), \u001b[39m*\u001b[39m\u001b[39m*\u001b[39moptions\n\u001b[1;32m   1054\u001b[0m     )\n\u001b[0;32m-> 1055\u001b[0m     \u001b[39mreturn\u001b[39;00m cast(ResponseT, \u001b[39mself\u001b[39;49m\u001b[39m.\u001b[39;49mrequest(cast_to, opts, stream\u001b[39m=\u001b[39;49mstream, stream_cls\u001b[39m=\u001b[39;49mstream_cls))\n",
      "File \u001b[0;32m/opt/anaconda3/envs/ArrowBackend/lib/python3.11/site-packages/openai/_base_client.py:834\u001b[0m, in \u001b[0;36mSyncAPIClient.request\u001b[0;34m(self, cast_to, options, remaining_retries, stream, stream_cls)\u001b[0m\n\u001b[1;32m    825\u001b[0m \u001b[39mdef\u001b[39;00m \u001b[39mrequest\u001b[39m(\n\u001b[1;32m    826\u001b[0m     \u001b[39mself\u001b[39m,\n\u001b[1;32m    827\u001b[0m     cast_to: Type[ResponseT],\n\u001b[0;32m   (...)\u001b[0m\n\u001b[1;32m    832\u001b[0m     stream_cls: \u001b[39mtype\u001b[39m[_StreamT] \u001b[39m|\u001b[39m \u001b[39mNone\u001b[39;00m \u001b[39m=\u001b[39m \u001b[39mNone\u001b[39;00m,\n\u001b[1;32m    833\u001b[0m ) \u001b[39m-\u001b[39m\u001b[39m>\u001b[39m ResponseT \u001b[39m|\u001b[39m _StreamT:\n\u001b[0;32m--> 834\u001b[0m     \u001b[39mreturn\u001b[39;00m \u001b[39mself\u001b[39;49m\u001b[39m.\u001b[39;49m_request(\n\u001b[1;32m    835\u001b[0m         cast_to\u001b[39m=\u001b[39;49mcast_to,\n\u001b[1;32m    836\u001b[0m         options\u001b[39m=\u001b[39;49moptions,\n\u001b[1;32m    837\u001b[0m         stream\u001b[39m=\u001b[39;49mstream,\n\u001b[1;32m    838\u001b[0m         stream_cls\u001b[39m=\u001b[39;49mstream_cls,\n\u001b[1;32m    839\u001b[0m         remaining_retries\u001b[39m=\u001b[39;49mremaining_retries,\n\u001b[1;32m    840\u001b[0m     )\n",
      "File \u001b[0;32m/opt/anaconda3/envs/ArrowBackend/lib/python3.11/site-packages/openai/_base_client.py:877\u001b[0m, in \u001b[0;36mSyncAPIClient._request\u001b[0;34m(self, cast_to, options, remaining_retries, stream, stream_cls)\u001b[0m\n\u001b[1;32m    874\u001b[0m     \u001b[39m# If the response is streamed then we need to explicitly read the response\u001b[39;00m\n\u001b[1;32m    875\u001b[0m     \u001b[39m# to completion before attempting to access the response text.\u001b[39;00m\n\u001b[1;32m    876\u001b[0m     err\u001b[39m.\u001b[39mresponse\u001b[39m.\u001b[39mread()\n\u001b[0;32m--> 877\u001b[0m     \u001b[39mraise\u001b[39;00m \u001b[39mself\u001b[39m\u001b[39m.\u001b[39m_make_status_error_from_response(err\u001b[39m.\u001b[39mresponse) \u001b[39mfrom\u001b[39;00m \u001b[39mNone\u001b[39;00m\n\u001b[1;32m    878\u001b[0m \u001b[39mexcept\u001b[39;00m httpx\u001b[39m.\u001b[39mTimeoutException \u001b[39mas\u001b[39;00m err:\n\u001b[1;32m    879\u001b[0m     \u001b[39mif\u001b[39;00m retries \u001b[39m>\u001b[39m \u001b[39m0\u001b[39m:\n",
      "\u001b[0;31mAuthenticationError\u001b[0m: Error code: 401 - {'error': {'message': 'Incorrect API key provided: sk-Qf6aF***************************************cJLJ. You can find your API key at https://platform.openai.com/account/api-keys.', 'type': 'invalid_request_error', 'param': None, 'code': 'invalid_api_key'}}"
     ]
    }
   ],
   "source": [
    "text = \"Au revoir\"\n",
    "\n",
    "response = client.audio.speech.create(\n",
    "        model=\"tts-1-hd\",\n",
    "        voice=\"alloy\",\n",
    "        input=text\n",
    "\n",
    "        )\n",
    "response.stream_to_file(f'lesson_audio/{text}.mp3')\n"
   ]
  },
  {
   "cell_type": "markdown",
   "metadata": {},
   "source": [
    "add all to firebase storage"
   ]
  },
  {
   "cell_type": "code",
   "execution_count": 6,
   "metadata": {},
   "outputs": [
    {
     "name": "stdout",
     "output_type": "stream",
     "text": [
      "28 files in lesson_audio\n",
      "uploaded Elle parle anglais et français.mp3 to firebase\n",
      "https://storage.googleapis.com/lang-learning-app-gpt.appspot.com/lessons/French%20Beginner%20-%20First%20Lesson/Elle%20parle%20anglais%20et%20fran%C3%A7ais.mp3/Elle%20parle%20anglais%20et%20fran%C3%A7ais.mp3\n",
      "{'taskType': 'Reading', 'taskDescription': \"Translate 'Elle parle anglais et français' into English\", 'text': 'Elle parle anglais et français', 'translation': 'She speaks English and French', 'audioFilePath': 'https://storage.googleapis.com/lang-learning-app-gpt.appspot.com/lessons/French%20Beginner%20-%20First%20Lesson/Elle%20parle%20anglais%20et%20fran%C3%A7ais.mp3/Elle%20parle%20anglais%20et%20fran%C3%A7ais.mp3', 'points': 7}\n",
      "uploaded Voir vous plus tard.mp3 to firebase\n",
      "https://storage.googleapis.com/lang-learning-app-gpt.appspot.com/lessons/French%20Beginner%20-%20First%20Lesson/Voir%20vous%20plus%20tard.mp3/Voir%20vous%20plus%20tard.mp3\n",
      "{'taskType': 'Writing', 'taskDescription': \"Write 'See you later' in French\", 'text': 'Voir vous plus tard', 'correctAnswer': 'À plus tard', 'points': 10, 'audioFilePath': 'https://storage.googleapis.com/lang-learning-app-gpt.appspot.com/lessons/French%20Beginner%20-%20First%20Lesson/Voir%20vous%20plus%20tard.mp3/Voir%20vous%20plus%20tard.mp3'}\n",
      "uploaded Où est la gare?.mp3 to firebase\n",
      "https://storage.googleapis.com/lang-learning-app-gpt.appspot.com/lessons/French%20Beginner%20-%20First%20Lesson/O%C3%B9%20est%20la%20gare%3F.mp3/O%C3%B9%20est%20la%20gare%3F.mp3\n",
      "{'taskType': 'Reading', 'taskDescription': \"Translate 'Où est la gare?' into English\", 'text': 'Où est la gare?', 'translation': 'Where is the train station?', 'audioFilePath': 'https://storage.googleapis.com/lang-learning-app-gpt.appspot.com/lessons/French%20Beginner%20-%20First%20Lesson/O%C3%B9%20est%20la%20gare%3F.mp3/O%C3%B9%20est%20la%20gare%3F.mp3', 'points': 7}\n",
      "uploaded Merci.mp3 to firebase\n",
      "https://storage.googleapis.com/lang-learning-app-gpt.appspot.com/lessons/French%20Beginner%20-%20First%20Lesson/Merci.mp3/Merci.mp3\n",
      "{'taskType': 'Speaking', 'taskDescription': \"Repeat 'Merci' (Thank you)\", 'text': 'Merci', 'translation': 'Thank you', 'audioFilePath': 'https://storage.googleapis.com/lang-learning-app-gpt.appspot.com/lessons/French%20Beginner%20-%20First%20Lesson/Merci.mp3/Merci.mp3', 'points': 5}\n",
      "uploaded Pouvez-vous m'aider?.mp3 to firebase\n",
      "https://storage.googleapis.com/lang-learning-app-gpt.appspot.com/lessons/French%20Beginner%20-%20First%20Lesson/Pouvez-vous%20m%27aider%3F.mp3/Pouvez-vous%20m%27aider%3F.mp3\n",
      "{'taskType': 'Speaking', 'taskDescription': \"Repeat 'Pouvez-vous m'aider?' (Can you help me?)\", 'text': \"Pouvez-vous m'aider?\", 'translation': 'Can you help me?', 'audioFilePath': 'https://storage.googleapis.com/lang-learning-app-gpt.appspot.com/lessons/French%20Beginner%20-%20First%20Lesson/Pouvez-vous%20m%27aider%3F.mp3/Pouvez-vous%20m%27aider%3F.mp3', 'points': 5}\n",
      "uploaded C'est un livre.mp3 to firebase\n",
      "https://storage.googleapis.com/lang-learning-app-gpt.appspot.com/lessons/French%20Beginner%20-%20First%20Lesson/C%27est%20un%20livre.mp3/C%27est%20un%20livre.mp3\n",
      "{'taskType': 'Reading', 'taskDescription': \"Translate 'C'est un livre' into English\", 'text': \"C'est un livre\", 'translation': 'It is a book', 'audioFilePath': 'https://storage.googleapis.com/lang-learning-app-gpt.appspot.com/lessons/French%20Beginner%20-%20First%20Lesson/C%27est%20un%20livre.mp3/C%27est%20un%20livre.mp3', 'points': 7}\n",
      "uploaded Je veux de l'eau.mp3 to firebase\n",
      "https://storage.googleapis.com/lang-learning-app-gpt.appspot.com/lessons/French%20Beginner%20-%20First%20Lesson/Je%20veux%20de%20l%27eau.mp3/Je%20veux%20de%20l%27eau.mp3\n",
      "{'taskType': 'Reading', 'taskDescription': \"Translate 'Je veux de l'eau' into English\", 'text': \"Je veux de l'eau\", 'translation': 'I want some water', 'audioFilePath': 'https://storage.googleapis.com/lang-learning-app-gpt.appspot.com/lessons/French%20Beginner%20-%20First%20Lesson/Je%20veux%20de%20l%27eau.mp3/Je%20veux%20de%20l%27eau.mp3', 'points': 7}\n",
      "uploaded Comment ça va?.mp3 to firebase\n",
      "https://storage.googleapis.com/lang-learning-app-gpt.appspot.com/lessons/French%20Beginner%20-%20First%20Lesson/Comment%20%C3%A7a%20va%3F.mp3/Comment%20%C3%A7a%20va%3F.mp3\n",
      "{'taskType': 'Speaking', 'taskDescription': \"Repeat 'Comment ça va?' (How are you?)\", 'text': 'Comment ça va?', 'translation': 'How are you?', 'audioFilePath': 'https://storage.googleapis.com/lang-learning-app-gpt.appspot.com/lessons/French%20Beginner%20-%20First%20Lesson/Comment%20%C3%A7a%20va%3F.mp3/Comment%20%C3%A7a%20va%3F.mp3', 'points': 5}\n",
      "uploaded Je voudrais un café, s'il vous plaît.mp3 to firebase\n",
      "https://storage.googleapis.com/lang-learning-app-gpt.appspot.com/lessons/French%20Beginner%20-%20First%20Lesson/Je%20voudrais%20un%20caf%C3%A9%2C%20s%27il%20vous%20pla%C3%AEt.mp3/Je%20voudrais%20un%20caf%C3%A9%2C%20s%27il%20vous%20pla%C3%AEt.mp3\n",
      "{'taskType': 'Reading', 'taskDescription': \"Translate 'Je voudrais un café, s'il vous plaît' into English\", 'text': \"Je voudrais un café, s'il vous plaît\", 'translation': 'I would like a coffee, please', 'audioFilePath': 'https://storage.googleapis.com/lang-learning-app-gpt.appspot.com/lessons/French%20Beginner%20-%20First%20Lesson/Je%20voudrais%20un%20caf%C3%A9%2C%20s%27il%20vous%20pla%C3%AEt.mp3/Je%20voudrais%20un%20caf%C3%A9%2C%20s%27il%20vous%20pla%C3%AEt.mp3', 'points': 7}\n",
      "uploaded Je ne comprends pas.mp3 to firebase\n",
      "https://storage.googleapis.com/lang-learning-app-gpt.appspot.com/lessons/French%20Beginner%20-%20First%20Lesson/Je%20ne%20comprends%20pas.mp3/Je%20ne%20comprends%20pas.mp3\n",
      "{'taskType': 'Speaking', 'taskDescription': \"Say 'Je ne comprends pas' (I do not understand)\", 'text': 'Je ne comprends pas', 'translation': 'I do not understand', 'audioFilePath': 'https://storage.googleapis.com/lang-learning-app-gpt.appspot.com/lessons/French%20Beginner%20-%20First%20Lesson/Je%20ne%20comprends%20pas.mp3/Je%20ne%20comprends%20pas.mp3', 'points': 5}\n",
      "{'taskType': 'Reading', 'taskDescription': \"Translate 'Je ne comprends pas' into English\", 'text': 'Je ne comprends pas', 'translation': 'I do not understand', 'audioFilePath': 'https://storage.googleapis.com/lang-learning-app-gpt.appspot.com/lessons/French%20Beginner%20-%20First%20Lesson/Je%20ne%20comprends%20pas.mp3/Je%20ne%20comprends%20pas.mp3', 'points': 7}\n",
      "uploaded Oui.mp3 to firebase\n",
      "https://storage.googleapis.com/lang-learning-app-gpt.appspot.com/lessons/French%20Beginner%20-%20First%20Lesson/Oui.mp3/Oui.mp3\n",
      "{'taskType': 'Speaking', 'taskDescription': \"Say 'Oui' (Yes)\", 'text': 'Oui', 'translation': 'Yes', 'audioFilePath': 'https://storage.googleapis.com/lang-learning-app-gpt.appspot.com/lessons/French%20Beginner%20-%20First%20Lesson/Oui.mp3/Oui.mp3', 'points': 5}\n",
      "uploaded Elle a un chat.mp3 to firebase\n",
      "https://storage.googleapis.com/lang-learning-app-gpt.appspot.com/lessons/French%20Beginner%20-%20First%20Lesson/Elle%20a%20un%20chat.mp3/Elle%20a%20un%20chat.mp3\n",
      "{'taskType': 'Reading', 'taskDescription': \"Translate 'Elle a un chat' into English\", 'text': 'Elle a un chat', 'translation': 'She has a cat', 'audioFilePath': 'https://storage.googleapis.com/lang-learning-app-gpt.appspot.com/lessons/French%20Beginner%20-%20First%20Lesson/Elle%20a%20un%20chat.mp3/Elle%20a%20un%20chat.mp3', 'points': 7}\n",
      "uploaded Bon matin.mp3 to firebase\n",
      "https://storage.googleapis.com/lang-learning-app-gpt.appspot.com/lessons/French%20Beginner%20-%20First%20Lesson/Bon%20matin.mp3/Bon%20matin.mp3\n",
      "{'taskType': 'Writing', 'taskDescription': \"Write 'Good morning' in French\", 'text': 'Bon matin', 'correctAnswer': 'Bonjour', 'points': 10, 'audioFilePath': 'https://storage.googleapis.com/lang-learning-app-gpt.appspot.com/lessons/French%20Beginner%20-%20First%20Lesson/Bon%20matin.mp3/Bon%20matin.mp3'}\n",
      "uploaded Je m'appelle John.mp3 to firebase\n",
      "https://storage.googleapis.com/lang-learning-app-gpt.appspot.com/lessons/French%20Beginner%20-%20First%20Lesson/Je%20m%27appelle%20John.mp3/Je%20m%27appelle%20John.mp3\n",
      "{'taskType': 'Speaking', 'taskDescription': \"Say 'Je m'appelle John' (My name is John)\", 'text': \"Je m'appelle John\", 'translation': 'My name is John', 'audioFilePath': 'https://storage.googleapis.com/lang-learning-app-gpt.appspot.com/lessons/French%20Beginner%20-%20First%20Lesson/Je%20m%27appelle%20John.mp3/Je%20m%27appelle%20John.mp3', 'points': 5}\n",
      "uploaded Bonjour.mp3 to firebase\n",
      "https://storage.googleapis.com/lang-learning-app-gpt.appspot.com/lessons/French%20Beginner%20-%20First%20Lesson/Bonjour.mp3/Bonjour.mp3\n",
      "{'taskType': 'Speaking', 'taskDescription': \"Repeat the greeting 'Bonjour' (Hello)\", 'text': 'Bonjour', 'translation': 'Hello', 'audioFilePath': 'https://storage.googleapis.com/lang-learning-app-gpt.appspot.com/lessons/French%20Beginner%20-%20First%20Lesson/Bonjour.mp3/Bonjour.mp3', 'points': 5}\n",
      "uploaded S'il vous plaît.mp3 to firebase\n",
      "https://storage.googleapis.com/lang-learning-app-gpt.appspot.com/lessons/French%20Beginner%20-%20First%20Lesson/S%27il%20vous%20pla%C3%AEt.mp3/S%27il%20vous%20pla%C3%AEt.mp3\n",
      "{'taskType': 'Speaking', 'taskDescription': \"Repeat 'S'il vous plaît' (Please)\", 'text': \"S'il vous plaît\", 'translation': 'Please', 'audioFilePath': 'https://storage.googleapis.com/lang-learning-app-gpt.appspot.com/lessons/French%20Beginner%20-%20First%20Lesson/S%27il%20vous%20pla%C3%AEt.mp3/S%27il%20vous%20pla%C3%AEt.mp3', 'points': 5}\n",
      "uploaded Quelle heure est-il?.mp3 to firebase\n",
      "https://storage.googleapis.com/lang-learning-app-gpt.appspot.com/lessons/French%20Beginner%20-%20First%20Lesson/Quelle%20heure%20est-il%3F.mp3/Quelle%20heure%20est-il%3F.mp3\n",
      "{'taskType': 'Reading', 'taskDescription': \"Translate 'Quelle heure est-il?' into English\", 'text': 'Quelle heure est-il?', 'translation': 'What time is it?', 'audioFilePath': 'https://storage.googleapis.com/lang-learning-app-gpt.appspot.com/lessons/French%20Beginner%20-%20First%20Lesson/Quelle%20heure%20est-il%3F.mp3/Quelle%20heure%20est-il%3F.mp3', 'points': 7}\n",
      "uploaded Où est l'hôtel?.mp3 to firebase\n",
      "https://storage.googleapis.com/lang-learning-app-gpt.appspot.com/lessons/French%20Beginner%20-%20First%20Lesson/O%C3%B9%20est%20l%27h%C3%B4tel%3F.mp3/O%C3%B9%20est%20l%27h%C3%B4tel%3F.mp3\n",
      "{'taskType': 'Speaking', 'taskDescription': \"Repeat 'Où est l'hôtel?' (Where is the hotel?)\", 'text': \"Où est l'hôtel?\", 'translation': 'Where is the hotel?', 'audioFilePath': 'https://storage.googleapis.com/lang-learning-app-gpt.appspot.com/lessons/French%20Beginner%20-%20First%20Lesson/O%C3%B9%20est%20l%27h%C3%B4tel%3F.mp3/O%C3%B9%20est%20l%27h%C3%B4tel%3F.mp3', 'points': 5}\n",
      "uploaded Où sont les toilettes?.mp3 to firebase\n",
      "https://storage.googleapis.com/lang-learning-app-gpt.appspot.com/lessons/French%20Beginner%20-%20First%20Lesson/O%C3%B9%20sont%20les%20toilettes%3F.mp3/O%C3%B9%20sont%20les%20toilettes%3F.mp3\n",
      "{'taskType': 'Reading', 'taskDescription': \"Translate 'Où sont les toilettes?' into English\", 'text': 'Où sont les toilettes?', 'translation': 'Where is the bathroom?', 'audioFilePath': 'https://storage.googleapis.com/lang-learning-app-gpt.appspot.com/lessons/French%20Beginner%20-%20First%20Lesson/O%C3%B9%20sont%20les%20toilettes%3F.mp3/O%C3%B9%20sont%20les%20toilettes%3F.mp3', 'points': 7}\n",
      "uploaded Comment vous appelez-vous?.mp3 to firebase\n",
      "https://storage.googleapis.com/lang-learning-app-gpt.appspot.com/lessons/French%20Beginner%20-%20First%20Lesson/Comment%20vous%20appelez-vous%3F.mp3/Comment%20vous%20appelez-vous%3F.mp3\n",
      "{'taskType': 'Speaking', 'taskDescription': \"Repeat 'Comment vous appelez-vous?' (What is your name?)\", 'text': 'Comment vous appelez-vous?', 'translation': 'What is your name?', 'audioFilePath': 'https://storage.googleapis.com/lang-learning-app-gpt.appspot.com/lessons/French%20Beginner%20-%20First%20Lesson/Comment%20vous%20appelez-vous%3F.mp3/Comment%20vous%20appelez-vous%3F.mp3', 'points': 5}\n",
      "uploaded Parlez-vous anglais?.mp3 to firebase\n",
      "https://storage.googleapis.com/lang-learning-app-gpt.appspot.com/lessons/French%20Beginner%20-%20First%20Lesson/Parlez-vous%20anglais%3F.mp3/Parlez-vous%20anglais%3F.mp3\n",
      "{'taskType': 'Speaking', 'taskDescription': \"Repeat 'Parlez-vous anglais?' (Do you speak English?)\", 'text': 'Parlez-vous anglais?', 'translation': 'Do you speak English?', 'audioFilePath': 'https://storage.googleapis.com/lang-learning-app-gpt.appspot.com/lessons/French%20Beginner%20-%20First%20Lesson/Parlez-vous%20anglais%3F.mp3/Parlez-vous%20anglais%3F.mp3', 'points': 5}\n",
      "uploaded Nous aimons la musique.mp3 to firebase\n",
      "https://storage.googleapis.com/lang-learning-app-gpt.appspot.com/lessons/French%20Beginner%20-%20First%20Lesson/Nous%20aimons%20la%20musique.mp3/Nous%20aimons%20la%20musique.mp3\n",
      "{'taskType': 'Reading', 'taskDescription': \"Translate 'Nous aimons la musique' into English\", 'text': 'Nous aimons la musique', 'translation': 'We like music', 'audioFilePath': 'https://storage.googleapis.com/lang-learning-app-gpt.appspot.com/lessons/French%20Beginner%20-%20First%20Lesson/Nous%20aimons%20la%20musique.mp3/Nous%20aimons%20la%20musique.mp3', 'points': 7}\n",
      "uploaded Non.mp3 to firebase\n",
      "https://storage.googleapis.com/lang-learning-app-gpt.appspot.com/lessons/French%20Beginner%20-%20First%20Lesson/Non.mp3/Non.mp3\n",
      "{'taskType': 'Speaking', 'taskDescription': \"Say 'Non' (No)\", 'text': 'Non', 'translation': 'No', 'audioFilePath': 'https://storage.googleapis.com/lang-learning-app-gpt.appspot.com/lessons/French%20Beginner%20-%20First%20Lesson/Non.mp3/Non.mp3', 'points': 5}\n",
      "uploaded Je voudrais de l'eau, s'il vous plaît.mp3 to firebase\n",
      "https://storage.googleapis.com/lang-learning-app-gpt.appspot.com/lessons/French%20Beginner%20-%20First%20Lesson/Je%20voudrais%20de%20l%27eau%2C%20s%27il%20vous%20pla%C3%AEt.mp3/Je%20voudrais%20de%20l%27eau%2C%20s%27il%20vous%20pla%C3%AEt.mp3\n",
      "{'taskType': 'Speaking', 'taskDescription': \"Say 'Je voudrais de l'eau, s'il vous plaît' (I would like some water, please)\", 'text': \"Je voudrais de l'eau, s'il vous plaît\", 'translation': 'I would like some water, please', 'audioFilePath': 'https://storage.googleapis.com/lang-learning-app-gpt.appspot.com/lessons/French%20Beginner%20-%20First%20Lesson/Je%20voudrais%20de%20l%27eau%2C%20s%27il%20vous%20pla%C3%AEt.mp3/Je%20voudrais%20de%20l%27eau%2C%20s%27il%20vous%20pla%C3%AEt.mp3', 'points': 5}\n",
      "uploaded Au revoir.mp3 to firebase\n",
      "https://storage.googleapis.com/lang-learning-app-gpt.appspot.com/lessons/French%20Beginner%20-%20First%20Lesson/Au%20revoir.mp3/Au%20revoir.mp3\n",
      "{'taskType': 'Speaking', 'taskDescription': \"Repeat 'Au revoir' (Goodbye)\", 'text': 'Au revoir', 'translation': 'Goodbye', 'audioFilePath': 'https://storage.googleapis.com/lang-learning-app-gpt.appspot.com/lessons/French%20Beginner%20-%20First%20Lesson/Au%20revoir.mp3/Au%20revoir.mp3', 'points': 5}\n",
      "uploaded Je suis désolé(e).mp3 to firebase\n",
      "https://storage.googleapis.com/lang-learning-app-gpt.appspot.com/lessons/French%20Beginner%20-%20First%20Lesson/Je%20suis%20d%C3%A9sol%C3%A9%28e%29.mp3/Je%20suis%20d%C3%A9sol%C3%A9%28e%29.mp3\n",
      "{'taskType': 'Speaking', 'taskDescription': \"Say 'Je suis désolé(e)' (I am sorry)\", 'text': 'Je suis désolé(e)', 'translation': 'I am sorry', 'audioFilePath': 'https://storage.googleapis.com/lang-learning-app-gpt.appspot.com/lessons/French%20Beginner%20-%20First%20Lesson/Je%20suis%20d%C3%A9sol%C3%A9%28e%29.mp3/Je%20suis%20d%C3%A9sol%C3%A9%28e%29.mp3', 'points': 5}\n",
      "uploaded Le soleil est jaune.mp3 to firebase\n",
      "https://storage.googleapis.com/lang-learning-app-gpt.appspot.com/lessons/French%20Beginner%20-%20First%20Lesson/Le%20soleil%20est%20jaune.mp3/Le%20soleil%20est%20jaune.mp3\n",
      "{'taskType': 'Reading', 'taskDescription': \"Translate 'Le soleil est jaune' into English\", 'text': 'Le soleil est jaune', 'translation': 'The sun is yellow', 'audioFilePath': 'https://storage.googleapis.com/lang-learning-app-gpt.appspot.com/lessons/French%20Beginner%20-%20First%20Lesson/Le%20soleil%20est%20jaune.mp3/Le%20soleil%20est%20jaune.mp3', 'points': 7}\n",
      "uploaded J'ai deux frères.mp3 to firebase\n",
      "https://storage.googleapis.com/lang-learning-app-gpt.appspot.com/lessons/French%20Beginner%20-%20First%20Lesson/J%27ai%20deux%20fr%C3%A8res.mp3/J%27ai%20deux%20fr%C3%A8res.mp3\n",
      "{'taskType': 'Reading', 'taskDescription': \"Translate 'J'ai deux frères' into English\", 'text': \"J'ai deux frères\", 'translation': 'I have two brothers', 'audioFilePath': 'https://storage.googleapis.com/lang-learning-app-gpt.appspot.com/lessons/French%20Beginner%20-%20First%20Lesson/J%27ai%20deux%20fr%C3%A8res.mp3/J%27ai%20deux%20fr%C3%A8res.mp3', 'points': 7}\n"
     ]
    }
   ],
   "source": [
    "# upload the audio to firebase\n",
    "from firebase_admin import storage\n",
    "import datetime\n",
    "import os\n",
    "\n",
    "\n",
    "list_of_files = os.listdir('lesson_audio')\n",
    "print(len(list_of_files), 'files in lesson_audio')\n",
    "\n",
    "bucket = storage.bucket()\n",
    "list_of_files = os.listdir('lesson_audio')\n",
    "\n",
    "for file in list_of_files:\n",
    "    folder_path = f'lessons/{data[\"lessonTitle\"]}/{file}'  # Specify the folder path here\n",
    "\n",
    "    if file.endswith('.mp3'):\n",
    "        blob = bucket.blob(f'{folder_path}/{file}')  # Specify the folder path as part of the blob name\n",
    "        # upload location\n",
    "        upload_location = f'lesson_audio/{file}'\n",
    "\n",
    "        blob.upload_from_filename(upload_location)  # upload the file\n",
    "        print(f'uploaded {file} to firebase')\n",
    "        blob.make_public()\n",
    "\n",
    "        # get the url of the file\n",
    "        url = blob.public_url\n",
    "        print(url)\n",
    "        for lesson in exercise:\n",
    "            # update the lesson with the url at audioFilePath\n",
    "            if isinstance(lesson, dict):\n",
    "                if lesson['text'] == file[:-4]:\n",
    "                    lesson['audioFilePath'] = url  # add the url to the lesson\n",
    "                    print(lesson)\n",
    "\n",
    "\n",
    "#update the json file\n",
    "with open(json_file, 'w') as f:\n",
    "    json.dump(data, f, indent=4)\n",
    "\n",
    "\n",
    "\n"
   ]
  },
  {
   "cell_type": "code",
   "execution_count": 7,
   "metadata": {},
   "outputs": [
    {
     "name": "stdout",
     "output_type": "stream",
     "text": [
      "{'lessonTitle': 'French Beginner - First Lesson', 'skillLevel': 'Beginner', 'focusArea': 'Basic Greetings and Common Phrases', 'totalTasks': 35, 'exercises': [{'taskType': 'Speaking', 'taskDescription': \"Repeat the greeting 'Bonjour' (Hello)\", 'text': 'Bonjour', 'translation': 'Hello', 'audioFilePath': 'https://storage.googleapis.com/lang-learning-app-gpt.appspot.com/lessons/French%20Beginner%20-%20First%20Lesson/Bonjour.mp3/Bonjour.mp3', 'points': 5}, {'taskType': 'Speaking', 'taskDescription': \"Repeat 'Comment ça va?' (How are you?)\", 'text': 'Comment ça va?', 'translation': 'How are you?', 'audioFilePath': 'https://storage.googleapis.com/lang-learning-app-gpt.appspot.com/lessons/French%20Beginner%20-%20First%20Lesson/Comment%20%C3%A7a%20va%3F.mp3/Comment%20%C3%A7a%20va%3F.mp3', 'points': 5}, {'taskType': 'Speaking', 'taskDescription': \"Say 'Je m'appelle John' (My name is John)\", 'text': \"Je m'appelle John\", 'translation': 'My name is John', 'audioFilePath': 'https://storage.googleapis.com/lang-learning-app-gpt.appspot.com/lessons/French%20Beginner%20-%20First%20Lesson/Je%20m%27appelle%20John.mp3/Je%20m%27appelle%20John.mp3', 'points': 5}, {'taskType': 'Speaking', 'taskDescription': \"Repeat 'Merci' (Thank you)\", 'text': 'Merci', 'translation': 'Thank you', 'audioFilePath': 'https://storage.googleapis.com/lang-learning-app-gpt.appspot.com/lessons/French%20Beginner%20-%20First%20Lesson/Merci.mp3/Merci.mp3', 'points': 5}, {'taskType': 'Speaking', 'taskDescription': \"Repeat 'S'il vous plaît' (Please)\", 'text': \"S'il vous plaît\", 'translation': 'Please', 'audioFilePath': 'https://storage.googleapis.com/lang-learning-app-gpt.appspot.com/lessons/French%20Beginner%20-%20First%20Lesson/S%27il%20vous%20pla%C3%AEt.mp3/S%27il%20vous%20pla%C3%AEt.mp3', 'points': 5}, {'taskType': 'Speaking', 'taskDescription': \"Repeat 'Au revoir' (Goodbye)\", 'text': 'Au revoir', 'translation': 'Goodbye', 'audioFilePath': 'https://storage.googleapis.com/lang-learning-app-gpt.appspot.com/lessons/French%20Beginner%20-%20First%20Lesson/Au%20revoir.mp3/Au%20revoir.mp3', 'points': 5}, {'taskType': 'Speaking', 'taskDescription': \"Say 'Je suis désolé(e)' (I am sorry)\", 'text': 'Je suis désolé(e)', 'translation': 'I am sorry', 'audioFilePath': 'https://storage.googleapis.com/lang-learning-app-gpt.appspot.com/lessons/French%20Beginner%20-%20First%20Lesson/Je%20suis%20d%C3%A9sol%C3%A9%28e%29.mp3/Je%20suis%20d%C3%A9sol%C3%A9%28e%29.mp3', 'points': 5}, {'taskType': 'Speaking', 'taskDescription': \"Repeat 'Pouvez-vous m'aider?' (Can you help me?)\", 'text': \"Pouvez-vous m'aider?\", 'translation': 'Can you help me?', 'audioFilePath': 'https://storage.googleapis.com/lang-learning-app-gpt.appspot.com/lessons/French%20Beginner%20-%20First%20Lesson/Pouvez-vous%20m%27aider%3F.mp3/Pouvez-vous%20m%27aider%3F.mp3', 'points': 5}, {'taskType': 'Speaking', 'taskDescription': \"Say 'Oui' (Yes)\", 'text': 'Oui', 'translation': 'Yes', 'audioFilePath': 'https://storage.googleapis.com/lang-learning-app-gpt.appspot.com/lessons/French%20Beginner%20-%20First%20Lesson/Oui.mp3/Oui.mp3', 'points': 5}, {'taskType': 'Speaking', 'taskDescription': \"Say 'Non' (No)\", 'text': 'Non', 'translation': 'No', 'audioFilePath': 'https://storage.googleapis.com/lang-learning-app-gpt.appspot.com/lessons/French%20Beginner%20-%20First%20Lesson/Non.mp3/Non.mp3', 'points': 5}, {'taskType': 'Speaking', 'taskDescription': \"Repeat 'Comment vous appelez-vous?' (What is your name?)\", 'text': 'Comment vous appelez-vous?', 'translation': 'What is your name?', 'audioFilePath': 'https://storage.googleapis.com/lang-learning-app-gpt.appspot.com/lessons/French%20Beginner%20-%20First%20Lesson/Comment%20vous%20appelez-vous%3F.mp3/Comment%20vous%20appelez-vous%3F.mp3', 'points': 5}, {'taskType': 'Speaking', 'taskDescription': \"Say 'Je ne comprends pas' (I do not understand)\", 'text': 'Je ne comprends pas', 'translation': 'I do not understand', 'audioFilePath': 'https://storage.googleapis.com/lang-learning-app-gpt.appspot.com/lessons/French%20Beginner%20-%20First%20Lesson/Je%20ne%20comprends%20pas.mp3/Je%20ne%20comprends%20pas.mp3', 'points': 5}, {'taskType': 'Speaking', 'taskDescription': \"Repeat 'Parlez-vous anglais?' (Do you speak English?)\", 'text': 'Parlez-vous anglais?', 'translation': 'Do you speak English?', 'audioFilePath': 'https://storage.googleapis.com/lang-learning-app-gpt.appspot.com/lessons/French%20Beginner%20-%20First%20Lesson/Parlez-vous%20anglais%3F.mp3/Parlez-vous%20anglais%3F.mp3', 'points': 5}, {'taskType': 'Speaking', 'taskDescription': \"Say 'Je voudrais de l'eau, s'il vous plaît' (I would like some water, please)\", 'text': \"Je voudrais de l'eau, s'il vous plaît\", 'translation': 'I would like some water, please', 'audioFilePath': 'https://storage.googleapis.com/lang-learning-app-gpt.appspot.com/lessons/French%20Beginner%20-%20First%20Lesson/Je%20voudrais%20de%20l%27eau%2C%20s%27il%20vous%20pla%C3%AEt.mp3/Je%20voudrais%20de%20l%27eau%2C%20s%27il%20vous%20pla%C3%AEt.mp3', 'points': 5}, {'taskType': 'Speaking', 'taskDescription': \"Repeat 'Où est l'hôtel?' (Where is the hotel?)\", 'text': \"Où est l'hôtel?\", 'translation': 'Where is the hotel?', 'audioFilePath': 'https://storage.googleapis.com/lang-learning-app-gpt.appspot.com/lessons/French%20Beginner%20-%20First%20Lesson/O%C3%B9%20est%20l%27h%C3%B4tel%3F.mp3/O%C3%B9%20est%20l%27h%C3%B4tel%3F.mp3', 'points': 5}, {'taskType': 'Reading', 'taskDescription': \"Translate 'Où sont les toilettes?' into English\", 'text': 'Où sont les toilettes?', 'translation': 'Where is the bathroom?', 'audioFilePath': 'https://storage.googleapis.com/lang-learning-app-gpt.appspot.com/lessons/French%20Beginner%20-%20First%20Lesson/O%C3%B9%20sont%20les%20toilettes%3F.mp3/O%C3%B9%20sont%20les%20toilettes%3F.mp3', 'points': 7}, {'taskType': 'Reading', 'taskDescription': \"Translate 'Je voudrais un café, s'il vous plaît' into English\", 'text': \"Je voudrais un café, s'il vous plaît\", 'translation': 'I would like a coffee, please', 'audioFilePath': 'https://storage.googleapis.com/lang-learning-app-gpt.appspot.com/lessons/French%20Beginner%20-%20First%20Lesson/Je%20voudrais%20un%20caf%C3%A9%2C%20s%27il%20vous%20pla%C3%AEt.mp3/Je%20voudrais%20un%20caf%C3%A9%2C%20s%27il%20vous%20pla%C3%AEt.mp3', 'points': 7}, {'taskType': 'Writing', 'taskDescription': \"Write 'Good morning' in French\", 'text': 'Bon matin', 'correctAnswer': 'Bonjour', 'points': 10, 'audioFilePath': 'https://storage.googleapis.com/lang-learning-app-gpt.appspot.com/lessons/French%20Beginner%20-%20First%20Lesson/Bon%20matin.mp3/Bon%20matin.mp3'}, {'taskType': 'Writing', 'taskDescription': \"Write 'See you later' in French\", 'text': 'Voir vous plus tard', 'correctAnswer': 'À plus tard', 'points': 10, 'audioFilePath': 'https://storage.googleapis.com/lang-learning-app-gpt.appspot.com/lessons/French%20Beginner%20-%20First%20Lesson/Voir%20vous%20plus%20tard.mp3/Voir%20vous%20plus%20tard.mp3'}, {'taskType': 'Reading', 'taskDescription': \"Translate 'C'est un livre' into English\", 'text': \"C'est un livre\", 'translation': 'It is a book', 'audioFilePath': 'https://storage.googleapis.com/lang-learning-app-gpt.appspot.com/lessons/French%20Beginner%20-%20First%20Lesson/C%27est%20un%20livre.mp3/C%27est%20un%20livre.mp3', 'points': 7}, {'taskType': 'Reading', 'taskDescription': \"Translate 'Je veux de l'eau' into English\", 'text': \"Je veux de l'eau\", 'translation': 'I want some water', 'audioFilePath': 'https://storage.googleapis.com/lang-learning-app-gpt.appspot.com/lessons/French%20Beginner%20-%20First%20Lesson/Je%20veux%20de%20l%27eau.mp3/Je%20veux%20de%20l%27eau.mp3', 'points': 7}, {'taskType': 'Reading', 'taskDescription': \"Translate 'Où est la gare?' into English\", 'text': 'Où est la gare?', 'translation': 'Where is the train station?', 'audioFilePath': 'https://storage.googleapis.com/lang-learning-app-gpt.appspot.com/lessons/French%20Beginner%20-%20First%20Lesson/O%C3%B9%20est%20la%20gare%3F.mp3/O%C3%B9%20est%20la%20gare%3F.mp3', 'points': 7}, {'taskType': 'Reading', 'taskDescription': \"Translate 'Je ne comprends pas' into English\", 'text': 'Je ne comprends pas', 'translation': 'I do not understand', 'audioFilePath': 'https://storage.googleapis.com/lang-learning-app-gpt.appspot.com/lessons/French%20Beginner%20-%20First%20Lesson/Je%20ne%20comprends%20pas.mp3/Je%20ne%20comprends%20pas.mp3', 'points': 7}, {'taskType': 'Reading', 'taskDescription': \"Translate 'Quelle heure est-il?' into English\", 'text': 'Quelle heure est-il?', 'translation': 'What time is it?', 'audioFilePath': 'https://storage.googleapis.com/lang-learning-app-gpt.appspot.com/lessons/French%20Beginner%20-%20First%20Lesson/Quelle%20heure%20est-il%3F.mp3/Quelle%20heure%20est-il%3F.mp3', 'points': 7}, {'taskType': 'Reading', 'taskDescription': \"Translate 'Nous aimons la musique' into English\", 'text': 'Nous aimons la musique', 'translation': 'We like music', 'audioFilePath': 'https://storage.googleapis.com/lang-learning-app-gpt.appspot.com/lessons/French%20Beginner%20-%20First%20Lesson/Nous%20aimons%20la%20musique.mp3/Nous%20aimons%20la%20musique.mp3', 'points': 7}, {'taskType': 'Reading', 'taskDescription': \"Translate 'Elle a un chat' into English\", 'text': 'Elle a un chat', 'translation': 'She has a cat', 'audioFilePath': 'https://storage.googleapis.com/lang-learning-app-gpt.appspot.com/lessons/French%20Beginner%20-%20First%20Lesson/Elle%20a%20un%20chat.mp3/Elle%20a%20un%20chat.mp3', 'points': 7}, {'taskType': 'Reading', 'taskDescription': \"Translate 'Le soleil est jaune' into English\", 'text': 'Le soleil est jaune', 'translation': 'The sun is yellow', 'audioFilePath': 'https://storage.googleapis.com/lang-learning-app-gpt.appspot.com/lessons/French%20Beginner%20-%20First%20Lesson/Le%20soleil%20est%20jaune.mp3/Le%20soleil%20est%20jaune.mp3', 'points': 7}, {'taskType': 'Reading', 'taskDescription': \"Translate 'J'ai deux frères' into English\", 'text': \"J'ai deux frères\", 'translation': 'I have two brothers', 'audioFilePath': 'https://storage.googleapis.com/lang-learning-app-gpt.appspot.com/lessons/French%20Beginner%20-%20First%20Lesson/J%27ai%20deux%20fr%C3%A8res.mp3/J%27ai%20deux%20fr%C3%A8res.mp3', 'points': 7}, {'taskType': 'Reading', 'taskDescription': \"Translate 'Elle parle anglais et français' into English\", 'text': 'Elle parle anglais et français', 'translation': 'She speaks English and French', 'audioFilePath': 'https://storage.googleapis.com/lang-learning-app-gpt.appspot.com/lessons/French%20Beginner%20-%20First%20Lesson/Elle%20parle%20anglais%20et%20fran%C3%A7ais.mp3/Elle%20parle%20anglais%20et%20fran%C3%A7ais.mp3', 'points': 7}, {'taskType': 'Writing', 'taskDescription': \"Write 'I am happy' in French\", 'text': 'I am happy', 'correctAnswer': 'Je suis heureux (masculine) / heureuse (feminine)', 'points': 10}, {'taskType': 'Writing', 'taskDescription': \"Write 'She eats an apple' in French\", 'text': 'She eats an apple', 'correctAnswer': 'Elle mange une pomme', 'points': 10}, {'taskType': 'Writing', 'taskDescription': \"Write 'The sky is blue' in French\", 'text': 'The sky is blue', 'correctAnswer': 'Le ciel est bleu', 'points': 10}, {'taskType': 'Writing', 'taskDescription': \"Write 'We are friends' in French\", 'text': 'We are friends', 'correctAnswer': 'Nous sommes amis', 'points': 10}, {'taskType': 'Writing', 'taskDescription': \"Write 'I have a book' in French\", 'text': 'I have a book', 'correctAnswer': \"J'ai un livre\", 'points': 10}, {'taskType': 'Writing', 'taskDescription': \"Write 'Where is the hotel?' in French\", 'text': 'Where is the hotel?', 'correctAnswer': \"Où est l'hôtel?\", 'points': 10}]}\n",
      "updated French Beginner - First Lesson in firebase\n"
     ]
    }
   ],
   "source": [
    "# reget all the data and add it to firebase\n",
    "# get the json file\n",
    "with open(json_file) as f:\n",
    "    data = json.load(f)\n",
    "    print(data)\n",
    "\n",
    "#update the lesson in firebase\n",
    "doc_ref = db.collection(u'lessons').document(data['lessonTitle'])\n",
    "doc_ref.set(data)\n",
    "print(f'updated {data[\"lessonTitle\"]} in firebase')\n"
   ]
  }
 ],
 "metadata": {
  "kernelspec": {
   "display_name": "ArrowBackend",
   "language": "python",
   "name": "python3"
  },
  "language_info": {
   "codemirror_mode": {
    "name": "ipython",
    "version": 3
   },
   "file_extension": ".py",
   "mimetype": "text/x-python",
   "name": "python",
   "nbconvert_exporter": "python",
   "pygments_lexer": "ipython3",
   "version": "3.11.3"
  }
 },
 "nbformat": 4,
 "nbformat_minor": 2
}
