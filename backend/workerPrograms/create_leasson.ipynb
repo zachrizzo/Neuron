{
 "cells": [
  {
   "cell_type": "code",
   "execution_count": null,
   "metadata": {},
   "outputs": [],
   "source": [
    "from config import db, client\n",
    "import asyncio\n",
    "import json\n",
    "import time\n",
    "import os\n",
    "import json\n",
    "import unidecode\n"
   ]
  },
  {
   "cell_type": "markdown",
   "metadata": {},
   "source": [
    "Create the vocal lesson"
   ]
  },
  {
   "cell_type": "code",
   "execution_count": null,
   "metadata": {},
   "outputs": [
    {
     "ename": "",
     "evalue": "",
     "output_type": "error",
     "traceback": [
      "\u001b[1;31mThe kernel failed to start as the Python Environment '/opt/anaconda3/envs/ArrowBackend/bin/python' is no longer available. Consider selecting another kernel or refreshing the list of Python Environments."
     ]
    }
   ],
   "source": [
    "voice_lesson_assistant =''\n",
    "reading_lesson_assistant = ''\n",
    "writing_lesson_assistant = ''\n",
    "listening_lesson_assistant = ''\n",
    "grammar_lesson_assistant = ''\n",
    "vocabulary_lesson_assistant = ''\n",
    "conversation_lesson_assistant = ''\n",
    "\n",
    "vocabLessonCheck= 'do all of them match the for mat of the lesson vocab example reply no if no and yes of yes'\n",
    "vocabLesson_fix = \"\"\"then fix all of them here is the example: vocab lesson example: { \"taskType\": \"Vocabulary\", \"taskDescription\": \"Match the French word to its English translation, paying attention to the gender of each noun.\", \"options\": { \"French\": [\"pomme\", \"stylo\", \"voiture\", \"livre\", \"chat\", \"chien\", \"maison\", \"fleur\", \"soleil\", \"lune\"], \"English\": [\"apple\", \"pen\", \"car\", \"book\", \"cat\", \"dog\", \"house\", \"flower\", \"sun\", \"moon\"] }, \"gender\": \"Masculine / Feminine\", \"audioFilePaths\": { \"pomme\": \"path/to/pomme.mp3\", \"stylo\": \"path/to/stylo.mp3\", \"voiture\": \"path/to/voiture.mp3\", \"livre\": \"path/to/livre.mp3\", \"chat\": \"path/to/chat.mp3\", \"chien\": \"path/to/chien.mp3\", \"maison\": \"path/to/maison.mp3\", \"fleur\": \"path/to/fleur.mp3\", \"soleil\": \"path/to/soleil.mp3\", \"lune\": \"path/to/lune.mp3\" }, \"points\": 5 }\n",
    "\n",
    "notice there is only one word in each option and each one has a audio path\"\"\"\n",
    "\n",
    "vocab_run_instruction  = 'make sure they are in the format of a vocab lesson and they only have one word  in the option to match and and audio file for each option'"
   ]
  },
  {
   "cell_type": "markdown",
   "metadata": {},
   "source": [
    "Voice Lesson"
   ]
  },
  {
   "cell_type": "code",
   "execution_count": null,
   "metadata": {},
   "outputs": [],
   "source": []
  }
 ],
 "metadata": {
  "kernelspec": {
   "display_name": "Python 3",
   "language": "python",
   "name": "python3"
  },
  "language_info": {
   "name": "python",
   "version": "3.11.3"
  }
 },
 "nbformat": 4,
 "nbformat_minor": 2
}
